{
 "cells": [
  {
   "cell_type": "code",
   "execution_count": 2,
   "metadata": {},
   "outputs": [
    {
     "name": "stdout",
     "output_type": "stream",
     "text": [
      "<class 'pandas.core.frame.DataFrame'>\n",
      "DatetimeIndex: 100990 entries, 1996-11-01 11:00:00 to 2017-04-24 18:00:00\n",
      "Data columns (total 19 columns):\n",
      " _conds         100918 non-null object\n",
      " _dewptm        100369 non-null float64\n",
      " _fog           100990 non-null int64\n",
      " _hail          100990 non-null int64\n",
      " _heatindexm    29155 non-null float64\n",
      " _hum           100233 non-null float64\n",
      " _precipm       0 non-null float64\n",
      " _pressurem     100758 non-null float64\n",
      " _rain          100990 non-null int64\n",
      " _snow          100990 non-null int64\n",
      " _tempm         100317 non-null float64\n",
      " _thunder       100990 non-null int64\n",
      " _tornado       100990 non-null int64\n",
      " _vism          96562 non-null float64\n",
      " _wdird         86235 non-null float64\n",
      " _wdire         86235 non-null object\n",
      " _wgustm        1072 non-null float64\n",
      " _windchillm    579 non-null float64\n",
      " _wspdm         98632 non-null float64\n",
      "dtypes: float64(11), int64(6), object(2)\n",
      "memory usage: 15.4+ MB\n",
      "None\n",
      "dataset shape (rows, columns) - (100990, 3)\n"
     ]
    },
    {
     "data": {
      "image/png": "[encoded data removed]",
      "text/plain": [
       "<Figure size 1152x648 with 2 Axes>"
      ]
     },
     "metadata": {
      "needs_background": "light"
     },
     "output_type": "display_data"
    }
   ],
   "source": [
    "import numpy as np # linear algebra\n",
    "import pandas as pd \n",
    "\n",
    "#loading the dataset\n",
    "weather_df = pd.read_csv('testset.csv', parse_dates=['datetime_utc'], index_col='datetime_utc')\n",
    "\n",
    "#Printing the attributes\n",
    "print(weather_df.info(verbose='True'))\n",
    "\n",
    "\n",
    "weather_df = weather_df.loc[:,[' _conds', ' _hum', ' _tempm']]\n",
    "weather_df = weather_df.rename(index=str, columns={' _conds': 'condition', ' _hum': 'humidity', ' _pressurem': 'pressure', ' _tempm': 'temprature'})\n",
    "print(f'dataset shape (rows, columns) - {weather_df.shape}')\n",
    "weather_df.index = pd.to_datetime(weather_df.index)\n",
    "\n",
    "def list_and_visualize_missing_data(dataset):\n",
    "    # Listing total null items and its percent with respect to all nulls\n",
    "    total = dataset.isnull().sum().sort_values(ascending=False)\n",
    "    percent = ((dataset.isnull().sum())/(dataset.isnull().count())).sort_values(ascending=False)\n",
    "    missing_data = pd.concat([total, percent], axis=1, keys=['Total', 'Percent'])\n",
    "    missing_data = missing_data[missing_data.Total > 0]\n",
    "    \n",
    "    missing_data.plot.bar(subplots=True, figsize=(16,9))\n",
    "\n",
    "list_and_visualize_missing_data(weather_df)"
   ]
  },
  {
   "cell_type": "code",
   "execution_count": 3,
   "metadata": {},
   "outputs": [
    {
     "data": {
      "text/plain": [
       "condition     0\n",
       "humidity      0\n",
       "temprature    0\n",
       "dtype: int64"
      ]
     },
     "execution_count": 3,
     "metadata": {},
     "output_type": "execute_result"
    }
   ],
   "source": [
    "# will fill with previous valid value\n",
    "weather_df.ffill(inplace=True)\n",
    "weather_df[weather_df.isnull()].count()"
   ]
  },
  {
   "cell_type": "code",
   "execution_count": null,
   "metadata": {},
   "outputs": [],
   "source": []
  }
 ],
 "metadata": {
  "kernelspec": {
   "display_name": "Python 3",
   "language": "python",
   "name": "python3"
  },
  "language_info": {
   "codemirror_mode": {
    "name": "ipython",
    "version": 3
   },
   "file_extension": ".py",
   "mimetype": "text/x-python",
   "name": "python",
   "nbconvert_exporter": "python",
   "pygments_lexer": "ipython3",
   "version": "3.7.1"
  }
 },
 "nbformat": 4,
 "nbformat_minor": 2
}
