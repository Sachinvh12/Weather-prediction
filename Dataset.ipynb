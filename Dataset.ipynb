{
 "cells": [
  {
   "cell_type": "code",
   "execution_count": 7,
   "metadata": {},
   "outputs": [
    {
     "name": "stdout",
     "output_type": "stream",
     "text": [
      "0.23.4\n",
      "1.15.4\n",
      "<class 'pandas.core.frame.DataFrame'>\n",
      "DatetimeIndex: 100990 entries, 1996-11-01 11:00:00 to 2017-04-24 18:00:00\n",
      "Data columns (total 19 columns):\n",
      " _conds         100918 non-null object\n",
      " _dewptm        100369 non-null float64\n",
      " _fog           100990 non-null int64\n",
      " _hail          100990 non-null int64\n",
      " _heatindexm    29155 non-null float64\n",
      " _hum           100233 non-null float64\n",
      " _precipm       0 non-null float64\n",
      " _pressurem     100758 non-null float64\n",
      " _rain          100990 non-null int64\n",
      " _snow          100990 non-null int64\n",
      " _tempm         100317 non-null float64\n",
      " _thunder       100990 non-null int64\n",
      " _tornado       100990 non-null int64\n",
      " _vism          96562 non-null float64\n",
      " _wdird         86235 non-null float64\n",
      " _wdire         86235 non-null object\n",
      " _wgustm        1072 non-null float64\n",
      " _windchillm    579 non-null float64\n",
      " _wspdm         98632 non-null float64\n",
      "dtypes: float64(11), int64(6), object(2)\n",
      "memory usage: 15.4+ MB\n",
      "None\n"
     ]
    }
   ],
   "source": [
    "import numpy as np\n",
    "import pandas as pd \n",
    "import requests\n",
    "\n",
    "print(pd.__version__) #pandas version\n",
    "print(np.__version__) #numpy version\n",
    "\n",
    "#loading the dataset\n",
    "#dataset downloaded from kaagle: https://www.kaggle.com/mahirkukreja/delhi-weather-data#testset.csv\n",
    "#no of entries: 100990\n",
    "weather_df = pd.read_csv('testset.csv', parse_dates=['datetime_utc'], index_col='datetime_utc')\n",
    "\n",
    "#Printing the attributes\n",
    "print(weather_df.info(verbose='True'))#verbose :Whether to print the full summary"
   ]
  },
  {
   "cell_type": "code",
   "execution_count": 30,
   "metadata": {},
   "outputs": [
    {
     "name": "stdout",
     "output_type": "stream",
     "text": [
      " _tempm\n"
     ]
    }
   ],
   "source": [
    "#printing target \n",
    "print( weather_df.columns[10])\n"
   ]
  },
  {
   "cell_type": "code",
   "execution_count": 22,
   "metadata": {},
   "outputs": [
    {
     "name": "stdout",
     "output_type": "stream",
     "text": [
      "(100990, 19)\n"
     ]
    }
   ],
   "source": [
    "#Total no of records\n",
    "print(weather_df.shape)"
   ]
  },
  {
   "cell_type": "code",
   "execution_count": 42,
   "metadata": {},
   "outputs": [
    {
     "name": "stdout",
     "output_type": "stream",
     "text": [
      "Index([' _conds', ' _dewptm', ' _fog', ' _hail', ' _heatindexm', ' _hum',\n",
      "       ' _precipm', ' _pressurem', ' _rain', ' _snow', ' _tempm', ' _thunder',\n",
      "       ' _tornado', ' _vism', ' _wdird', ' _wdire', ' _wgustm', ' _windchillm',\n",
      "       ' _wspdm'],\n",
      "      dtype='object')\n"
     ]
    }
   ],
   "source": [
    "#header of the data set\n",
    "print(weather_df.columns)\n"
   ]
  },
  {
   "cell_type": "code",
   "execution_count": 43,
   "metadata": {},
   "outputs": [
    {
     "name": "stdout",
     "output_type": "stream",
     "text": [
      "                     _conds   _dewptm   _fog   _hail   _heatindexm   _hum  \\\n",
      "datetime_utc                                                                \n",
      "1996-11-01 11:00:00   Smoke       9.0      0       0           NaN   27.0   \n",
      "1996-11-01 12:00:00   Smoke      10.0      0       0           NaN   32.0   \n",
      "1996-11-01 13:00:00   Smoke      11.0      0       0           NaN   44.0   \n",
      "1996-11-01 14:00:00   Smoke      10.0      0       0           NaN   41.0   \n",
      "1996-11-01 16:00:00   Smoke      11.0      0       0           NaN   47.0   \n",
      "1996-11-01 17:00:00   Smoke      12.0      0       0           NaN   56.0   \n",
      "1996-11-01 18:00:00   Smoke      13.0      0       0           NaN   60.0   \n",
      "1996-11-01 19:00:00   Smoke      13.0      0       0           NaN   60.0   \n",
      "1996-11-01 20:00:00   Smoke      13.0      0       0           NaN   68.0   \n",
      "1996-11-01 21:00:00   Smoke      13.0      0       0           NaN   68.0   \n",
      "\n",
      "                      _precipm   _pressurem   _rain   _snow   _tempm  \\\n",
      "datetime_utc                                                           \n",
      "1996-11-01 11:00:00        NaN       1010.0       0       0     30.0   \n",
      "1996-11-01 12:00:00        NaN      -9999.0       0       0     28.0   \n",
      "1996-11-01 13:00:00        NaN      -9999.0       0       0     24.0   \n",
      "1996-11-01 14:00:00        NaN       1010.0       0       0     24.0   \n",
      "1996-11-01 16:00:00        NaN       1011.0       0       0     23.0   \n",
      "1996-11-01 17:00:00        NaN       1011.0       0       0     21.0   \n",
      "1996-11-01 18:00:00        NaN       1010.0       0       0     21.0   \n",
      "1996-11-01 19:00:00        NaN      -9999.0       0       0     21.0   \n",
      "1996-11-01 20:00:00        NaN      -9999.0       0       0     19.0   \n",
      "1996-11-01 21:00:00        NaN       1010.0       0       0     19.0   \n",
      "\n",
      "                      _thunder   _tornado   _vism   _wdird  _wdire   _wgustm  \\\n",
      "datetime_utc                                                                   \n",
      "1996-11-01 11:00:00          0          0     5.0    280.0    West       NaN   \n",
      "1996-11-01 12:00:00          0          0     NaN      0.0   North       NaN   \n",
      "1996-11-01 13:00:00          0          0     NaN      0.0   North       NaN   \n",
      "1996-11-01 14:00:00          0          0     2.0      0.0   North       NaN   \n",
      "1996-11-01 16:00:00          0          0     1.2      0.0   North       NaN   \n",
      "1996-11-01 17:00:00          0          0     NaN      0.0   North       NaN   \n",
      "1996-11-01 18:00:00          0          0     0.8      0.0   North       NaN   \n",
      "1996-11-01 19:00:00          0          0     NaN      0.0   North       NaN   \n",
      "1996-11-01 20:00:00          0          0     NaN      0.0   North       NaN   \n",
      "1996-11-01 21:00:00          0          0     NaN      0.0   North       NaN   \n",
      "\n",
      "                      _windchillm   _wspdm  \n",
      "datetime_utc                                \n",
      "1996-11-01 11:00:00           NaN      7.4  \n",
      "1996-11-01 12:00:00           NaN      NaN  \n",
      "1996-11-01 13:00:00           NaN      NaN  \n",
      "1996-11-01 14:00:00           NaN      NaN  \n",
      "1996-11-01 16:00:00           NaN      0.0  \n",
      "1996-11-01 17:00:00           NaN      NaN  \n",
      "1996-11-01 18:00:00           NaN      0.0  \n",
      "1996-11-01 19:00:00           NaN      NaN  \n",
      "1996-11-01 20:00:00           NaN      NaN  \n",
      "1996-11-01 21:00:00           NaN      NaN  \n"
     ]
    }
   ],
   "source": [
    "#first 10 records\n",
    "print(weather_df.head(10))"
   ]
  },
  {
   "cell_type": "code",
   "execution_count": 44,
   "metadata": {},
   "outputs": [
    {
     "name": "stdout",
     "output_type": "stream",
     "text": [
      "                     _conds   _dewptm   _fog   _hail   _heatindexm   _hum  \\\n",
      "datetime_utc                                                                \n",
      "2017-04-23 15:00:00    Haze      18.0      0       0           NaN   32.0   \n",
      "2017-04-23 18:00:00    Haze      19.0      0       0           NaN   41.0   \n",
      "2017-04-23 21:00:00    Haze      14.0      0       0           NaN   30.0   \n",
      "2017-04-24 00:00:00    Haze      15.0      0       0           NaN   40.0   \n",
      "2017-04-24 03:00:00    Haze      16.0      0       0           NaN   38.0   \n",
      "2017-04-24 06:00:00    Haze      17.0      0       0           NaN   25.0   \n",
      "2017-04-24 09:00:00    Haze      14.0      0       0           NaN   16.0   \n",
      "2017-04-24 12:00:00    Haze      12.0      0       0           NaN   14.0   \n",
      "2017-04-24 15:00:00    Haze      15.0      0       0           NaN   27.0   \n",
      "2017-04-24 18:00:00    Haze      15.0      0       0           NaN   30.0   \n",
      "\n",
      "                      _precipm   _pressurem   _rain   _snow   _tempm  \\\n",
      "datetime_utc                                                           \n",
      "2017-04-23 15:00:00        NaN       1001.0       0       0     33.0   \n",
      "2017-04-23 18:00:00        NaN       1002.0       0       0     30.0   \n",
      "2017-04-23 21:00:00        NaN       1002.0       0       0     29.0   \n",
      "2017-04-24 00:00:00        NaN       1004.0       0       0     26.0   \n",
      "2017-04-24 03:00:00        NaN       1006.0       0       0     28.0   \n",
      "2017-04-24 06:00:00        NaN       1005.0       0       0     34.0   \n",
      "2017-04-24 09:00:00        NaN       1003.0       0       0     38.0   \n",
      "2017-04-24 12:00:00        NaN       1002.0       0       0     36.0   \n",
      "2017-04-24 15:00:00        NaN       1004.0       0       0     32.0   \n",
      "2017-04-24 18:00:00        NaN       1005.0       0       0     30.0   \n",
      "\n",
      "                      _thunder   _tornado   _vism   _wdird  _wdire   _wgustm  \\\n",
      "datetime_utc                                                                   \n",
      "2017-04-23 15:00:00          0          0     2.0      NaN     NaN       NaN   \n",
      "2017-04-23 18:00:00          0          0     2.0      NaN     NaN       NaN   \n",
      "2017-04-23 21:00:00          0          0     2.0    320.0      NW       NaN   \n",
      "2017-04-24 00:00:00          0          0     2.0    290.0     WNW       NaN   \n",
      "2017-04-24 03:00:00          0          0     4.0      0.0   North       NaN   \n",
      "2017-04-24 06:00:00          0          0     4.0    320.0      NW       NaN   \n",
      "2017-04-24 09:00:00          0          0     4.0    320.0      NW       NaN   \n",
      "2017-04-24 12:00:00          0          0     4.0    270.0    West       NaN   \n",
      "2017-04-24 15:00:00          0          0     2.0    320.0      NW       NaN   \n",
      "2017-04-24 18:00:00          0          0     2.0    320.0      NW       NaN   \n",
      "\n",
      "                      _windchillm   _wspdm  \n",
      "datetime_utc                                \n",
      "2017-04-23 15:00:00           NaN      0.0  \n",
      "2017-04-23 18:00:00           NaN      0.0  \n",
      "2017-04-23 21:00:00           NaN     14.8  \n",
      "2017-04-24 00:00:00           NaN     11.1  \n",
      "2017-04-24 03:00:00           NaN     14.8  \n",
      "2017-04-24 06:00:00           NaN     11.1  \n",
      "2017-04-24 09:00:00           NaN     22.2  \n",
      "2017-04-24 12:00:00           NaN     18.5  \n",
      "2017-04-24 15:00:00           NaN      3.7  \n",
      "2017-04-24 18:00:00           NaN      3.7  \n"
     ]
    }
   ],
   "source": [
    "#last 10 records\n",
    "print(weather_df.tail(10))"
   ]
  },
  {
   "cell_type": "code",
   "execution_count": null,
   "metadata": {},
   "outputs": [],
   "source": []
  }
 ],
 "metadata": {
  "kernelspec": {
   "display_name": "Python 3",
   "language": "python",
   "name": "python3"
  },
  "language_info": {
   "codemirror_mode": {
    "name": "ipython",
    "version": 3
   },
   "file_extension": ".py",
   "mimetype": "text/x-python",
   "name": "python",
   "nbconvert_exporter": "python",
   "pygments_lexer": "ipython3",
   "version": "3.7.1"
  }
 },
 "nbformat": 4,
 "nbformat_minor": 2
}
