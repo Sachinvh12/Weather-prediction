{
 "cells": [
  {
   "cell_type": "code",
   "execution_count": 14,
   "metadata": {},
   "outputs": [
    {
     "name": "stdout",
     "output_type": "stream",
     "text": [
      "pandas version: 0.23.4\n",
      "numpy version: 1.15.4\n"
     ]
    }
   ],
   "source": [
    "#necessary libraries\n",
    "import numpy as np\n",
    "import pandas as pd \n",
    "\n",
    "import requests\n",
    "\n",
    "\n",
    "print(\"pandas version: \"+str(pd.__version__)) #pandas version\n",
    "print(\"numpy version: \"+str(np.__version__)) #numpy version"
   ]
  },
  {
   "cell_type": "code",
   "execution_count": 22,
   "metadata": {},
   "outputs": [
    {
     "name": "stdout",
     "output_type": "stream",
     "text": [
      "Enter your filename: testset.csv\n",
      "Index([' _conds', ' _dewptm', ' _fog', ' _hail', ' _heatindexm', ' _hum',\n",
      "       ' _precipm', ' _pressurem', ' _rain', ' _snow', ' _tempm', ' _thunder',\n",
      "       ' _tornado', ' _vism', ' _wdird', ' _wdire', ' _wgustm', ' _windchillm',\n",
      "       ' _wspdm'],\n",
      "      dtype='object')\n"
     ]
    }
   ],
   "source": [
    "#Taking user input for filename\n",
    "\n",
    "file_name = input(\"Enter your filename: \")\n",
    "weather_df = pd.read_csv(file_name, parse_dates=['datetime_utc'], index_col='datetime_utc')\n",
    "\n",
    "#Printing the attributes\n",
    "print(weather_df.columns)\n",
    "\n"
   ]
  },
  {
   "cell_type": "code",
   "execution_count": 9,
   "metadata": {},
   "outputs": [],
   "source": [
    "#loading dataset using relative path\n",
    "weather_df = pd.read_csv('testset.csv', parse_dates=['datetime_utc'], index_col='datetime_utc')\n",
    "\n",
    "#loading dataset using absolute path\n",
    "weather_df = pd.read_csv('C:\\\\Users\\\\My PC\\\\Documents\\\\mindmatrix\\\\Untitled Folder 1\\\\testset.csv', parse_dates=['datetime_utc'], index_col='datetime_utc')\n"
   ]
  },
  {
   "cell_type": "code",
   "execution_count": 23,
   "metadata": {},
   "outputs": [
    {
     "name": "stdout",
     "output_type": "stream",
     "text": [
      "Index([' _conds', ' _dewptm', ' _fog', ' _hail', ' _heatindexm', ' _hum',\n",
      "       ' _precipm', ' _pressurem', ' _rain', ' _snow', ' _tempm', ' _thunder',\n",
      "       ' _tornado', ' _vism', ' _wdird', ' _wdire', ' _wgustm', ' _windchillm',\n",
      "       ' _wspdm'],\n",
      "      dtype='object')\n"
     ]
    }
   ],
   "source": [
    "#reading dataset from the url\n",
    "\n",
    "url='https://raw.githubusercontent.com/mayank7533/weatherDemo/master/datasets/testset.csv'\n",
    "s=requests.get(url).content #converts html response to csv response\n",
    "c=pd.read_csv(url, parse_dates=['datetime_utc'], index_col='datetime_utc')\n",
    "print(weather_df.columns)\n",
    "\n"
   ]
  },
  {
   "cell_type": "code",
   "execution_count": 31,
   "metadata": {},
   "outputs": [
    {
     "name": "stdout",
     "output_type": "stream",
     "text": [
      "running two_digits.py ['two_digits.py', '10', '20']\n",
      "10 20 30\n"
     ]
    }
   ],
   "source": [
    "#command line arguments to run a python script\n",
    "\n",
    "%run \"two_digits.py\" 10 20"
   ]
  },
  {
   "cell_type": "code",
   "execution_count": null,
   "metadata": {},
   "outputs": [],
   "source": []
  }
 ],
 "metadata": {
  "kernelspec": {
   "display_name": "Python 3",
   "language": "python",
   "name": "python3"
  },
  "language_info": {
   "codemirror_mode": {
    "name": "ipython",
    "version": 3
   },
   "file_extension": ".py",
   "mimetype": "text/x-python",
   "name": "python",
   "nbconvert_exporter": "python",
   "pygments_lexer": "ipython3",
   "version": "3.7.1"
  }
 },
 "nbformat": 4,
 "nbformat_minor": 2
}
